{
  "nbformat": 4,
  "nbformat_minor": 0,
  "metadata": {
    "colab": {
      "name": "Python Class-1.ipynb",
      "provenance": [],
      "authorship_tag": "ABX9TyOgvQJcR4LLvsWPq8/1VYlR",
      "include_colab_link": true
    },
    "kernelspec": {
      "name": "python3",
      "display_name": "Python 3"
    },
    "language_info": {
      "name": "python"
    }
  },
  "cells": [
    {
      "cell_type": "markdown",
      "metadata": {
        "id": "view-in-github",
        "colab_type": "text"
      },
      "source": [
        "<a href=\"https://colab.research.google.com/github/bobby-bose/Lum/blob/main/Python_Class_1.ipynb\" target=\"_parent\"><img src=\"https://colab.research.google.com/assets/colab-badge.svg\" alt=\"Open In Colab\"/></a>"
      ]
    },
    {
      "cell_type": "code",
      "source": [
        "name=\"Bobby\"\n",
        "print(\"Hello\",\"Bobby\")\n",
        "print(\"Second Part\")\n",
        "print(\"Third \"+name)\n",
        "print(10+12)"
      ],
      "metadata": {
        "colab": {
          "base_uri": "https://localhost:8080/"
        },
        "id": "aDga7XxoHSm1",
        "outputId": "f1fc2a70-bbc2-4917-937b-b140db433592"
      },
      "execution_count": null,
      "outputs": [
        {
          "output_type": "stream",
          "name": "stdout",
          "text": [
            "Hello Bobby\n",
            "Second Part\n",
            "Third Bobby\n",
            "22\n"
          ]
        }
      ]
    },
    {
      "cell_type": "code",
      "source": [
        "print(10+30*45*56)"
      ],
      "metadata": {
        "colab": {
          "base_uri": "https://localhost:8080/"
        },
        "id": "z457iSbMIXPP",
        "outputId": "ea9768e6-cc2f-4dcc-d3c4-f87cbecbf324"
      },
      "execution_count": null,
      "outputs": [
        {
          "output_type": "stream",
          "name": "stdout",
          "text": [
            "100800\n"
          ]
        }
      ]
    },
    {
      "cell_type": "code",
      "source": [
        "print(\"Hello\")\n",
        "print(\"\\n\")\n",
        "print(\"Hello\")"
      ],
      "metadata": {
        "colab": {
          "base_uri": "https://localhost:8080/"
        },
        "id": "QTDtd_mEI5x2",
        "outputId": "a5d4a6ca-74e8-4cc8-8547-c4692a6b6f67"
      },
      "execution_count": null,
      "outputs": [
        {
          "output_type": "stream",
          "name": "stdout",
          "text": [
            "Hello\n",
            "\n",
            "\n",
            "Hello\n"
          ]
        }
      ]
    },
    {
      "cell_type": "code",
      "source": [
        "print(\"Hello\")\n",
        "print(5*\"\\n\")\n",
        "print(\"Hello\")"
      ],
      "metadata": {
        "colab": {
          "base_uri": "https://localhost:8080/"
        },
        "id": "2z_UKaBLLrM_",
        "outputId": "36d07dfd-236d-4e8b-f378-b2682e461258"
      },
      "execution_count": null,
      "outputs": [
        {
          "output_type": "stream",
          "name": "stdout",
          "text": [
            "Hello\n",
            "\n",
            "\n",
            "\n",
            "\n",
            "\n",
            "\n",
            "Hello\n"
          ]
        }
      ]
    },
    {
      "cell_type": "code",
      "source": [
        "print('Hello','World','Backspace',sep='_',end='%')"
      ],
      "metadata": {
        "colab": {
          "base_uri": "https://localhost:8080/"
        },
        "id": "4u60yLRPLxMF",
        "outputId": "a2512529-8387-4b16-dcb5-25bd7ffebabf"
      },
      "execution_count": null,
      "outputs": [
        {
          "output_type": "stream",
          "name": "stdout",
          "text": [
            "Hello_World_Backspace%"
          ]
        }
      ]
    },
    {
      "cell_type": "code",
      "source": [
        "string1 = \"Hi \"\n",
        "string2 = \"Hello \"\n",
        "string3 = \"World\"\n",
        "string4 = \"!!!\"\n",
        "print(string1+string2+string3+string4)"
      ],
      "metadata": {
        "colab": {
          "base_uri": "https://localhost:8080/"
        },
        "id": "eIo92UDRMYRe",
        "outputId": "c0b8249a-9699-45ba-bfdf-b81f9bed6ad4"
      },
      "execution_count": null,
      "outputs": [
        {
          "output_type": "stream",
          "name": "stdout",
          "text": [
            "Hi Hello World!!!\n"
          ]
        }
      ]
    },
    {
      "cell_type": "code",
      "source": [
        "import datetime\n",
        "now = datetime.datetime.now()\n",
        "string1 = \"Current time is \"\n",
        "print(type(now))\n",
        "print(type(string1))\n",
        "print(string1,now)"
      ],
      "metadata": {
        "colab": {
          "base_uri": "https://localhost:8080/"
        },
        "id": "tlXxJaYHMh19",
        "outputId": "28b1ebba-50a3-43cb-8f38-8fefc82182b4"
      },
      "execution_count": null,
      "outputs": [
        {
          "output_type": "stream",
          "name": "stdout",
          "text": [
            "<class 'datetime.datetime'>\n",
            "<class 'str'>\n",
            "Current time is  2022-06-21 12:17:43.594657\n"
          ]
        }
      ]
    },
    {
      "cell_type": "code",
      "source": [
        "import datetime\n",
        "now = datetime.datetime.now()\n",
        "string1 = \"Current time is \"\n",
        "print(type(now))\n",
        "print(type(string1))\n",
        "print(string1+str(now))"
      ],
      "metadata": {
        "colab": {
          "base_uri": "https://localhost:8080/"
        },
        "id": "O4RW6vRIMwR9",
        "outputId": "033ede1e-1dcd-43fe-ed8f-bcd514f4dc36"
      },
      "execution_count": null,
      "outputs": [
        {
          "output_type": "stream",
          "name": "stdout",
          "text": [
            "<class 'datetime.datetime'>\n",
            "<class 'str'>\n",
            "Current time is 2022-06-21 12:18:29.258851\n"
          ]
        }
      ]
    },
    {
      "cell_type": "code",
      "source": [
        "import datetime\n",
        "now = datetime.datetime.now()\n",
        "print(f'Current time is {now}')"
      ],
      "metadata": {
        "colab": {
          "base_uri": "https://localhost:8080/"
        },
        "id": "2uMw4QVvM1sN",
        "outputId": "9cff8677-4803-4e56-8648-a373bf5ccf3f"
      },
      "execution_count": null,
      "outputs": [
        {
          "output_type": "stream",
          "name": "stdout",
          "text": [
            "Current time is 2022-06-21 12:18:58.988977\n"
          ]
        }
      ]
    },
    {
      "cell_type": "code",
      "source": [
        "import datetime\n",
        "now = datetime.datetime.now()\n",
        "print('Current time is',now)"
      ],
      "metadata": {
        "colab": {
          "base_uri": "https://localhost:8080/"
        },
        "id": "E3tQPqWEM-8t",
        "outputId": "e311c52f-8c44-4cdb-b569-f393715e9f8c"
      },
      "execution_count": null,
      "outputs": [
        {
          "output_type": "stream",
          "name": "stdout",
          "text": [
            "Current time is 2022-06-21 12:19:32.602052\n"
          ]
        }
      ]
    },
    {
      "cell_type": "code",
      "source": [
        "print(None)"
      ],
      "metadata": {
        "colab": {
          "base_uri": "https://localhost:8080/"
        },
        "id": "CfK8N-uqNTnP",
        "outputId": "a8674521-9e21-4020-f26f-9175a859f5d6"
      },
      "execution_count": null,
      "outputs": [
        {
          "output_type": "stream",
          "name": "stdout",
          "text": [
            "None\n"
          ]
        }
      ]
    },
    {
      "cell_type": "code",
      "source": [
        "class Person:\n",
        "    def __init__(self, name, age, gender):\n",
        "        self.name, self.age, self.gender = name, age, gender\n",
        "jdoe = Person('Steve Smith', 35,'male')\n",
        "print(jdoe)\n",
        "print(jdoe.age)\n",
        "print(jdoe.gender)\n",
        "print(jdoe.name)\n"
      ],
      "metadata": {
        "colab": {
          "base_uri": "https://localhost:8080/"
        },
        "id": "Tm6_5wkGPHjG",
        "outputId": "71099b35-33f8-489a-e978-47df288e929b"
      },
      "execution_count": null,
      "outputs": [
        {
          "output_type": "stream",
          "name": "stdout",
          "text": [
            "<__main__.Person object at 0x7fc733ee6150>\n",
            "35\n",
            "male\n",
            "Steve Smith\n"
          ]
        }
      ]
    },
    {
      "cell_type": "markdown",
      "source": [
        ""
      ],
      "metadata": {
        "id": "nzpjugKDQA5o"
      }
    },
    {
      "cell_type": "code",
      "source": [
        "num=0\n",
        "def demo():\n",
        "    #print(num)\n",
        "    num=1\n",
        "    print(\"The Number is:\",num)\n",
        "demo()"
      ],
      "metadata": {
        "id": "p0sftemzP9fp",
        "outputId": "a7203f88-cd3b-416b-8be9-aad152140cd3",
        "colab": {
          "base_uri": "https://localhost:8080/"
        }
      },
      "execution_count": null,
      "outputs": [
        {
          "output_type": "stream",
          "name": "stdout",
          "text": [
            "The Number is: 1\n"
          ]
        }
      ]
    }
  ]
}